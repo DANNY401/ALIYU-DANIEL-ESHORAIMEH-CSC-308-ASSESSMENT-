{
 "cells": [
  {
   "cell_type": "markdown",
   "id": "e15ac3d3",
   "metadata": {},
   "source": [
    "# Predicting House Prices\n",
    "**Dataset:** California Housing Dataset\n",
    "**Task:** Regression"
   ]
  },
  {
   "cell_type": "markdown",
   "id": "160d0bad",
   "metadata": {},
   "source": [
    "## Step 1: Imports"
   ]
  },
  {
   "cell_type": "code",
   "execution_count": null,
   "id": "41b6cabd",
   "metadata": {},
   "outputs": [],
   "source": [
    "import pandas as pd\n",
    "import numpy as np\n",
    "import matplotlib.pyplot as plt\n",
    "import seaborn as sns\n",
    "import joblib\n",
    "\n",
    "from sklearn.model_selection import train_test_split, cross_val_score\n",
    "from sklearn.pipeline import Pipeline\n",
    "from sklearn.compose import ColumnTransformer\n",
    "from sklearn.impute import SimpleImputer\n",
    "from sklearn.preprocessing import OneHotEncoder, StandardScaler\n",
    "from sklearn.linear_model import LinearRegression\n",
    "from sklearn.metrics import mean_absolute_error, mean_squared_error, r2_score"
   ]
  },
  {
   "cell_type": "markdown",
   "id": "64cd4534",
   "metadata": {},
   "source": [
    "## Step 2: Load and Inspect Data"
   ]
  },
  {
   "cell_type": "code",
   "execution_count": null,
   "id": "51698930",
   "metadata": {},
   "outputs": [],
   "source": [
    "url = 'https://raw.githubusercontent.com/ageron/handson-ml/master/datasets/housing/housing.csv'\n",
    "df = pd.read_csv(url)\n",
    "print('Shape:', df.shape)\n",
    "df.info()\n",
    "df.head()\n",
    "df.describe()"
   ]
  },
  {
   "cell_type": "markdown",
   "id": "c700ecf2",
   "metadata": {},
   "source": [
    "## Step 3: Data Cleaning & Preprocessing"
   ]
  },
  {
   "cell_type": "code",
   "execution_count": null,
   "id": "259663e4",
   "metadata": {},
   "outputs": [],
   "source": [
    "df.drop_duplicates(inplace=True)\n",
    "X = df.drop('median_house_value', axis=1)\n",
    "y = df['median_house_value']\n",
    "X_train, X_test, y_train, y_test = train_test_split(\n",
    "    X, y, test_size=0.3, random_state=42\n",
    ")"
   ]
  },
  {
   "cell_type": "markdown",
   "id": "ab0775f4",
   "metadata": {},
   "source": [
    "## Step 4: Preprocessing Pipeline"
   ]
  },
  {
   "cell_type": "code",
   "execution_count": null,
   "id": "3366caaa",
   "metadata": {},
   "outputs": [],
   "source": [
    "num_attribs = X.select_dtypes(include=[np.number]).columns.tolist()\n",
    "cat_attribs = ['ocean_proximity']\n",
    "num_pipeline = Pipeline([\n",
    "    ('imputer', SimpleImputer(strategy='median')),\n",
    "    ('scaler', StandardScaler()),\n",
    "])\n",
    "cat_pipeline = Pipeline([\n",
    "    ('imputer', SimpleImputer(strategy='most_frequent')),\n",
    "    ('encoder', OneHotEncoder(handle_unknown='ignore'))\n",
    "])\n",
    "full_pipeline = ColumnTransformer([\n",
    "    ('num', num_pipeline, num_attribs),\n",
    "    ('cat', cat_pipeline, cat_attribs)\n",
    "])\n",
    "X_train_prepared = full_pipeline.fit_transform(X_train)\n",
    "X_test_prepared = full_pipeline.transform(X_test)\n",
    "joblib.dump(full_pipeline, 'preprocessing_pipeline.pkl')"
   ]
  },
  {
   "cell_type": "markdown",
   "id": "b94400e1",
   "metadata": {},
   "source": [
    "## Step 5: Exploratory Data Analysis (EDA) & Visualizations"
   ]
  },
  {
   "cell_type": "code",
   "execution_count": null,
   "id": "3735f047",
   "metadata": {},
   "outputs": [],
   "source": [
    "plt.figure(figsize=(10,8))\n",
    "sns.heatmap(df.corr(), annot=True, cmap='coolwarm')\n",
    "plt.title('Correlation Heatmap')\n",
    "plt.show()"
   ]
  },
  {
   "cell_type": "code",
   "execution_count": null,
   "id": "b52d2338",
   "metadata": {},
   "outputs": [],
   "source": [
    "plt.figure(figsize=(8,6))\n",
    "sns.histplot(df['median_house_value'], bins=50, kde=True)\n",
    "plt.title('Distribution of Median House Value')\n",
    "plt.xlabel('Median House Value')\n",
    "plt.ylabel('Frequency')\n",
    "plt.show()"
   ]
  },
  {
   "cell_type": "code",
   "execution_count": null,
   "id": "add9a924",
   "metadata": {},
   "outputs": [],
   "source": [
    "plt.figure(figsize=(8,6))\n",
    "sns.scatterplot(x='median_income', y='median_house_value', data=df, alpha=0.5)\n",
    "plt.title('Median Income vs. House Value')\n",
    "plt.xlabel('Median Income')\n",
    "plt.ylabel('Median House Value')\n",
    "plt.show()"
   ]
  },
  {
   "cell_type": "code",
   "execution_count": null,
   "id": "7f8eb070",
   "metadata": {},
   "outputs": [],
   "source": [
    "plt.figure(figsize=(8,6))\n",
    "sns.boxplot(x=df['housing_median_age'])\n",
    "plt.title('Boxplot of Housing Median Age')\n",
    "plt.xlabel('Housing Median Age')\n",
    "plt.show()"
   ]
  },
  {
   "cell_type": "code",
   "execution_count": null,
   "id": "dc0cd080",
   "metadata": {},
   "outputs": [],
   "source": [
    "sns.pairplot(df[['median_income','total_rooms','housing_median_age','median_house_value']])\n",
    "plt.suptitle('Pairplot of Key Features', y=1.02)\n",
    "plt.show()"
   ]
  },
  {
   "cell_type": "code",
   "execution_count": null,
   "id": "17c4304f",
   "metadata": {},
   "outputs": [],
   "source": [
    "# 1) Matplotlib: Histogram of Total Rooms\n",
    "plt.figure(figsize=(8,6))\n",
    "plt.hist(df['total_rooms'], bins=50)\n",
    "plt.title('Distribution of Total Rooms')\n",
    "plt.xlabel('Total Rooms')\n",
    "plt.ylabel('Frequency')\n",
    "plt.show()"
   ]
  },
  {
   "cell_type": "code",
   "execution_count": null,
   "id": "81c963bd",
   "metadata": {},
   "outputs": [],
   "source": [
    "# 2) Matplotlib: Average House Value by Ocean Proximity\n",
    "avg_values = df.groupby('ocean_proximity')['median_house_value'].mean()\n",
    "plt.figure(figsize=(10,6))\n",
    "plt.bar(avg_values.index, avg_values.values)\n",
    "plt.title('Average House Value by Ocean Proximity')\n",
    "plt.xlabel('Ocean Proximity')\n",
    "plt.ylabel('Average Median House Value')\n",
    "plt.xticks(rotation=45)\n",
    "plt.show()"
   ]
  },
  {
   "cell_type": "code",
   "execution_count": null,
   "id": "9bd353f4",
   "metadata": {},
   "outputs": [],
   "source": [
    "# 3) Seaborn: Violin Plot of Median Income by Proximity\n",
    "plt.figure(figsize=(10,6))\n",
    "sns.violinplot(x='ocean_proximity', y='median_income', data=df)\n",
    "plt.title('Median Income Distribution by Ocean Proximity')\n",
    "plt.xlabel('Ocean Proximity')\n",
    "plt.ylabel('Median Income')\n",
    "plt.xticks(rotation=45)\n",
    "plt.show()"
   ]
  },
  {
   "cell_type": "code",
   "execution_count": null,
   "id": "31e187a0",
   "metadata": {},
   "outputs": [],
   "source": [
    "# 4) Seaborn: Boxplot of Median House Value by Proximity\n",
    "plt.figure(figsize=(10,6))\n",
    "sns.boxplot(x='ocean_proximity', y='median_house_value', data=df)\n",
    "plt.title('House Value Distribution by Ocean Proximity')\n",
    "plt.xlabel('Ocean Proximity')\n",
    "plt.ylabel('Median House Value')\n",
    "plt.xticks(rotation=45)\n",
    "plt.show()"
   ]
  },
  {
   "cell_type": "code",
   "execution_count": null,
   "id": "456a7546",
   "metadata": {},
   "outputs": [],
   "source": [
    "# 5) Matplotlib: Line Plot of Average Value vs. Income Deciles\n",
    "df['income_decile'] = pd.qcut(df['median_income'], 10, labels=False)\n",
    "decile_avg = df.groupby('income_decile')['median_house_value'].mean()\n",
    "plt.figure(figsize=(8,6))\n",
    "plt.plot(decile_avg.index, decile_avg.values, marker='o')\n",
    "plt.title('Average House Value Across Income Deciles')\n",
    "plt.xlabel('Income Decile')\n",
    "plt.ylabel('Average Median House Value')\n",
    "plt.show()"
   ]
  },
  {
   "cell_type": "markdown",
   "id": "41da4c24",
   "metadata": {},
   "source": [
    "## Step 6: Model Training & Evaluation"
   ]
  },
  {
   "cell_type": "code",
   "execution_count": null,
   "id": "f26bf5aa",
   "metadata": {},
   "outputs": [],
   "source": [
    "model = LinearRegression()\n",
    "model.fit(X_train_prepared, y_train)\n",
    "joblib.dump(model, 'house_price_model.pkl')\n",
    "\n",
    "y_pred = model.predict(X_test_prepared)\n",
    "mae = mean_absolute_error(y_test, y_pred)\n",
    "mse = mean_squared_error(y_test, y_pred)\n",
    "rmse = np.sqrt(mse)\n",
    "r2 = r2_score(y_test, y_pred)\n",
    "\n",
    "# Metrics Summary\n",
    "metrics_df = pd.DataFrame({\n",
    "    'Metric': ['MAE', 'MSE', 'RMSE', 'R²'],\n",
    "    'Value': [mae, mse, rmse, r2]\n",
    "})\n",
    "print('Model Performance Summary:')\n",
    "print(metrics_df)"
   ]
  },
  {
   "cell_type": "code",
   "execution_count": null,
   "id": "dfc54ecc",
   "metadata": {},
   "outputs": [],
   "source": [
    "# Actual vs Predicted Plot\n",
    "plt.figure(figsize=(8,6))\n",
    "plt.scatter(y_test, y_pred, alpha=0.5)\n",
    "plt.plot([y_test.min(), y_test.max()], [y_test.min(), y_test.max()], 'r--', lw=2)\n",
    "plt.title('Actual vs. Predicted House Values')\n",
    "plt.xlabel('Actual Values')\n",
    "plt.ylabel('Predicted Values')\n",
    "plt.show()"
   ]
  },
  {
   "cell_type": "code",
   "execution_count": null,
   "id": "a4020fde",
   "metadata": {},
   "outputs": [],
   "source": [
    "# Residuals vs Predicted Plot\n",
    "plt.figure(figsize=(8,6))\n",
    "residuals = y_test - y_pred\n",
    "sns.scatterplot(x=y_pred, y=residuals, alpha=0.5)\n",
    "plt.axhline(0, color='red', linestyle='--')\n",
    "plt.title('Residuals vs. Predicted')\n",
    "plt.xlabel('Predicted Values')\n",
    "plt.ylabel('Residuals')\n",
    "plt.show()"
   ]
  },
  {
   "cell_type": "code",
   "execution_count": null,
   "id": "1412e38c",
   "metadata": {},
   "outputs": [],
   "source": [
    "# Cross-Validation R² Scores\n",
    "cv_scores = cross_val_score(model, X_train_prepared, y_train, scoring='r2', cv=5)\n",
    "print(f\"Cross-Validation R²: {cv_scores.mean():.3f} ± {cv_scores.std():.3f}\")"
   ]
  },
  {
   "cell_type": "markdown",
   "id": "f6727b05",
   "metadata": {},
   "source": [
    "## Conclusion\n",
    "- Baseline linear model achieved moderate performance (R² ≈ 0.48).\n",
    "- Future work: advanced models, feature engineering, hyperparameter tuning."
   ]
  }
 ],
 "metadata": {},
 "nbformat": 4,
 "nbformat_minor": 5
}
